{
 "cells": [
  {
   "cell_type": "code",
   "execution_count": 2,
   "metadata": {},
   "outputs": [],
   "source": [
    "import os\n",
    "import pandas as pd\n",
    "import numpy as np\n",
    "import matplotlib.pyplot as plt\n",
    "import seaborn as sns\n",
    "import librosa\n",
    "import librosa.display\n",
    "import soundfile as sf\n",
    "from glob import glob\n",
    "from itertools import cycle\n",
    "import random\n",
    "\n",
    "# Seaborn visualization setup\n",
    "sns.set_theme(style=\"white\", palette=None)\n",
    "color_pal = plt.rcParams[\"axes.prop_cycle\"].by_key()[\"color\"]\n",
    "color_cycle = cycle(plt.rcParams[\"axes.prop_cycle\"].by_key()[\"color\"])"
   ]
  },
  {
   "cell_type": "code",
   "execution_count": 3,
   "metadata": {},
   "outputs": [
    {
     "name": "stdout",
     "output_type": "stream",
     "text": [
      "['./genres_original/hiphop/hiphop.00020.wav', './genres_original/hiphop/hiphop.00046.wav', './genres_original/hiphop/hiphop.00051.wav', './genres_original/hiphop/hiphop.00032.wav', './genres_original/hiphop/hiphop.00087.wav', './genres_original/hiphop/hiphop.00089.wav', './genres_original/hiphop/hiphop.00085.wav', './genres_original/hiphop/hiphop.00075.wav', './genres_original/hiphop/hiphop.00068.wav', './genres_original/hiphop/hiphop.00015.wav']\n"
     ]
    }
   ],
   "source": [
    "# Path to the nested folder structure\n",
    "# audio_files = glob('genres_original/**/*.wav')\n",
    "# print(audio_files)\n",
    "\n",
    "audio_files = list()\n",
    "subdirectories = os.listdir(\"./genres_original\")\n",
    "for subdirectory in subdirectories:\n",
    "    subdirectoryPath = os.path.join(\"./genres_original\",subdirectory)\n",
    "    if os.path.isdir(subdirectoryPath):\n",
    "        files = os.listdir(subdirectoryPath)\n",
    "        selected_files = random.sample(files,10)\n",
    "        full_path_selected_files = [os.path.join(subdirectoryPath,wav_file) for wav_file in selected_files]\n",
    "        audio_files.extend(full_path_selected_files)\n",
    "print(audio_files[:10])\n",
    "\n",
    "# Output directories for saving plots and MFCC features\n",
    "output_dir = 'output'\n",
    "spectrogram_dir = os.path.join(output_dir, 'spectrogram_plots')\n",
    "mel_spectrogram_dir = os.path.join(output_dir, 'mel_spectrogram_plots')\n",
    "mfcc_dir = os.path.join(output_dir, 'mfcc_features')\n",
    "os.makedirs(spectrogram_dir, exist_ok=True)\n",
    "os.makedirs(mel_spectrogram_dir, exist_ok=True)\n",
    "os.makedirs(mfcc_dir, exist_ok=True)"
   ]
  },
  {
   "cell_type": "code",
   "execution_count": 4,
   "metadata": {},
   "outputs": [],
   "source": [
    "# Function to augment audio\n",
    "def augment_audio(y):\n",
    "    y_pitch_shifted = librosa.effects.pitch_shift(y, sr=22050, n_steps=4)  # Assuming default sr\n",
    "    y_time_stretched = librosa.effects.time_stretch(y=y, rate=1.5)\n",
    "    noise = np.random.randn(len(y))\n",
    "    y_noisy = y + 0.005 * noise\n",
    "    return [y_pitch_shifted, y_time_stretched, y_noisy]"
   ]
  },
  {
   "cell_type": "code",
   "execution_count": 5,
   "metadata": {},
   "outputs": [],
   "source": [
    "def plotSTFT(y, sr, file_basename, suffix):\n",
    "    # Compute and save STFT spectrogram plot\n",
    "    D = librosa.stft(y)\n",
    "    S_db = librosa.amplitude_to_db(np.abs(D), ref=np.max)\n",
    "    fig, ax = plt.subplots(figsize=(8, 4))  # Reduced figure size\n",
    "    img = librosa.display.specshow(S_db, x_axis='time', y_axis='log', ax=ax)\n",
    "    ax.set_title(f'Spectrogram Waveform of {file_basename}{suffix}', fontsize=14)\n",
    "    fig.colorbar(img, ax=ax, format='%0.2f')\n",
    "    spectrogram_filename = os.path.join(spectrogram_dir, f'{file_basename}{suffix}.png')\n",
    "    plt.savefig(spectrogram_filename)\n",
    "    plt.close(fig)\n",
    "    del fig,spectrogram_filename,D,S_db,ax,img\n",
    "    "
   ]
  },
  {
   "cell_type": "code",
   "execution_count": 6,
   "metadata": {},
   "outputs": [],
   "source": [
    "def plotMelSpectrogram(y, sr, file_basename, suffix):\n",
    "    # Compute and save Mel spectrogram plot\n",
    "    S = librosa.feature.melspectrogram(y=y, sr=sr, n_mels=128)\n",
    "    S_db_mel = librosa.amplitude_to_db(S, ref=np.max)\n",
    "    fig, ax = plt.subplots(figsize=(8, 4))  # Reduced figure size\n",
    "    img = librosa.display.specshow(S_db_mel, x_axis='time', y_axis='log', ax=ax)\n",
    "    ax.set_title(f'Mel Spectrogram Waveform of {file_basename}{suffix}', fontsize=14)\n",
    "    fig.colorbar(img, ax=ax, format='%0.2f')\n",
    "    mel_spectrogram_filename = os.path.join(mel_spectrogram_dir, f'{file_basename}{suffix}.png')\n",
    "    plt.savefig(mel_spectrogram_filename)\n",
    "    plt.close(fig)\n",
    "    del fig,mel_spectrogram_filename,S,S_db_mel,ax,img"
   ]
  },
  {
   "cell_type": "code",
   "execution_count": 7,
   "metadata": {},
   "outputs": [],
   "source": [
    "def computeMFCC(y, sr, file_basename, suffix):\n",
    "    # Compute and save MFCC features\n",
    "    mfccs = librosa.feature.mfcc(y=y, sr=sr, n_mfcc=13)\n",
    "    mfcc_filename = os.path.join(mfcc_dir, f'{file_basename}{suffix}.csv')\n",
    "    mfcc_df = pd.DataFrame(mfccs)\n",
    "    mfcc_df.to_csv(mfcc_filename, index=False)\n",
    "    del mfccs\n",
    "    del mfcc_filename\n",
    "    del mfcc_df"
   ]
  },
  {
   "cell_type": "code",
   "execution_count": 8,
   "metadata": {},
   "outputs": [],
   "source": [
    "# Function to process a single audio file\n",
    "def process_audio_file(y, sr, file_basename, augment_index=None):\n",
    "    suffix = f'aug{augment_index}' if augment_index is not None else ''\n",
    "    plotSTFT(y, sr, file_basename, suffix)\n",
    "    plotMelSpectrogram(y, sr, file_basename, suffix)\n",
    "    computeMFCC(y, sr, file_basename, suffix)"
   ]
  },
  {
   "cell_type": "code",
   "execution_count": 9,
   "metadata": {},
   "outputs": [],
   "source": [
    "def doStuff(wav_file):\n",
    "    file_basename = os.path.splitext(os.path.basename(wav_file))[0]\n",
    "    # Load the audio file\n",
    "    y, sr = librosa.load(wav_file)\n",
    "    \n",
    "    # Process the original audio file\n",
    "    process_audio_file(y, sr, file_basename)\n",
    "    # Augment the audio and process augmented versions\n",
    "    augmented_audios = augment_audio(y)\n",
    "    for i, aug_y in enumerate(augmented_audios):\n",
    "        augmented_filename = os.path.join(output_dir, f'{file_basename}aug{i}.wav')\n",
    "        sf.write(augmented_filename, aug_y, sr)  # Save the augmented audio file\n",
    "        process_audio_file(aug_y, sr, file_basename, augment_index=i)\n",
    "        os.remove(augmented_filename)\n",
    "    del augmented_audios, y, sr, file_basename"
   ]
  },
  {
   "cell_type": "code",
   "execution_count": 12,
   "metadata": {},
   "outputs": [
    {
     "ename": "",
     "evalue": "",
     "output_type": "error",
     "traceback": [
      "\u001b[1;31mThe Kernel crashed while executing code in the current cell or a previous cell. \n",
      "\u001b[1;31mPlease review the code in the cell(s) to identify a possible cause of the failure. \n",
      "\u001b[1;31mClick <a href='https://aka.ms/vscodeJupyterKernelCrash'>here</a> for more info. \n",
      "\u001b[1;31mView Jupyter <a href='command:jupyter.viewOutput'>log</a> for further details."
     ]
    }
   ],
   "source": [
    "# Process each .wav file in the genres_original folder\n",
    "\n",
    "import queue\n",
    "fileQueue = queue.Queue()\n",
    "for wav_file in audio_files:\n",
    "    fileQueue.put(wav_file)\n",
    "\n",
    "while not fileQueue.empty():\n",
    "    wav_file = fileQueue.get()\n",
    "    doStuff(wav_file)"
   ]
  },
  {
   "cell_type": "code",
   "execution_count": null,
   "metadata": {},
   "outputs": [],
   "source": []
  }
 ],
 "metadata": {
  "kernelspec": {
   "display_name": "Music",
   "language": "python",
   "name": "python3"
  },
  "language_info": {
   "codemirror_mode": {
    "name": "ipython",
    "version": 3
   },
   "file_extension": ".py",
   "mimetype": "text/x-python",
   "name": "python",
   "nbconvert_exporter": "python",
   "pygments_lexer": "ipython3",
   "version": "3.11.2"
  }
 },
 "nbformat": 4,
 "nbformat_minor": 2
}
