{
 "cells": [
  {
   "cell_type": "code",
   "execution_count": null,
   "metadata": {},
   "outputs": [],
   "source": [
    "import os\n",
    "import pandas as pd\n",
    "import numpy as np\n",
    "import matplotlib.pyplot as plt\n",
    "import seaborn as sns\n",
    "from glob import glob\n",
    "import librosa\n",
    "import librosa.display\n",
    "from itertools import cycle\n",
    "import soundfile as sf\n"
   ]
  },
  {
   "cell_type": "code",
   "execution_count": null,
   "metadata": {},
   "outputs": [],
   "source": [
    "# Seaborn visualization setup\n",
    "sns.set_theme(style=\"white\", palette=None)\n",
    "color_pal = plt.rcParams[\"axes.prop_cycle\"].by_key()[\"color\"]\n",
    "color_cycle = cycle(plt.rcParams[\"axes.prop_cycle\"].by_key()[\"color\"])"
   ]
  },
  {
   "cell_type": "code",
   "execution_count": null,
   "metadata": {},
   "outputs": [],
   "source": [
    "# Path to the nested folder structure\n",
    "audio_files = glob('genres_original/**/*.wav')\n",
    "\n",
    "# Output directories for saving plots and MFCC features\n",
    "output_dir = 'output'\n",
    "spectrogram_dir = os.path.join(output_dir, 'spectrogram_plots')\n",
    "mel_spectrogram_dir = os.path.join(output_dir, 'mel_spectrogram_plots')\n",
    "mfcc_dir = os.path.join(output_dir, 'mfcc_features')\n",
    "os.makedirs(spectrogram_dir, exist_ok=True)\n",
    "os.makedirs(mel_spectrogram_dir, exist_ok=True)\n",
    "os.makedirs(mfcc_dir, exist_ok=True)"
   ]
  },
  {
   "cell_type": "code",
   "execution_count": null,
   "metadata": {},
   "outputs": [],
   "source": [
    "# Function to augment audio\n",
    "def augment_audio(y):\n",
    "    y_pitch_shifted = librosa.effects.pitch_shift(y=y,sr=22050, n_steps=4)\n",
    "    y_time_stretched = librosa.effects.time_stretch(y=y,rate=1.5)\n",
    "    noise = np.random.randn(len(y))\n",
    "    y_noisy = y + 0.005 * noise\n",
    "    return [y_pitch_shifted, y_time_stretched, y_noisy]"
   ]
  },
  {
   "cell_type": "code",
   "execution_count": null,
   "metadata": {},
   "outputs": [],
   "source": [
    "def process_audio_file(y, sr, file_basename, augment_index=None):\n",
    "    # Load the audio file\n",
    "    suffix = f'aug{augment_index}' if augment_index is not None else ''\n",
    "    y, sr = librosa.load(wav_file)\n",
    "    \n",
    "    # Compute and save STFT spectrogram plot\n",
    "    D = librosa.stft(y)\n",
    "    S_db = librosa.amplitude_to_db(np.abs(D), ref=np.max)\n",
    "    fig, ax = plt.subplots(figsize=(4,4))\n",
    "    img = librosa.display.specshow(S_db, x_axis='time', y_axis='log', ax=ax)\n",
    "    ax.set_title(f'Spectrogram Waveform of {os.path.basename(wav_file)}', fontsize=20)\n",
    "    fig.colorbar(img, ax=ax, format='%0.2f')\n",
    "    spectrogram_filename = os.path.join(spectrogram_dir, f'{os.path.splitext(os.path.basename(wav_file))[0]}.png')\n",
    "    plt.savefig(spectrogram_filename)\n",
    "    plt.close(fig)\n",
    "    \n",
    "    # Compute and save Mel spectrogram plot\n",
    "    S = librosa.feature.melspectrogram(y=y, sr=sr, n_mels=128 * 2)\n",
    "    S_db_mel = librosa.amplitude_to_db(S, ref=np.max)\n",
    "    fig, ax = plt.subplots(figsize=(4,4))\n",
    "    img = librosa.display.specshow(S_db_mel, x_axis='time', y_axis='log', ax=ax)\n",
    "    ax.set_title(f'Mel Spectrogram Waveform of {os.path.basename(wav_file)}', fontsize=20)\n",
    "    fig.colorbar(img, ax=ax, format='%0.2f')\n",
    "    mel_spectrogram_filename = os.path.join(mel_spectrogram_dir, f'{os.path.splitext(os.path.basename(wav_file))[0]}.png')\n",
    "    plt.savefig(mel_spectrogram_filename)\n",
    "    plt.close(fig)\n",
    "    \n",
    "    # Compute and save MFCC features\n",
    "    mfccs = librosa.feature.mfcc(y=y, sr=sr, n_mfcc=13)\n",
    "    mfcc_filename = os.path.join(mfcc_dir, f'{os.path.splitext(os.path.basename(wav_file))[0]}.csv')\n",
    "    mfcc_df = pd.DataFrame(mfccs)\n",
    "    mfcc_df.to_csv(mfcc_filename, index=False)"
   ]
  },
  {
   "cell_type": "code",
   "execution_count": null,
   "metadata": {},
   "outputs": [],
   "source": [
    "for wav_file in audio_files:\n",
    "    file_basename = os.path.splitext(os.path.basename(wav_file))[0]\n",
    "    # Load the audio file\n",
    "    y, sr = librosa.load(wav_file)\n",
    "    # Process the original audio file\n",
    "    process_audio_file(y, sr, file_basename)\n",
    "    # Augment the audio and process augmented versions\n",
    "    augmented_audios = augment_audio(y)\n",
    "    for i, aug_y in enumerate(augmented_audios):\n",
    "        augmented_filename = os.path.join(output_dir, f'{file_basename}aug{i}.wav')\n",
    "        sf.write(augmented_filename, aug_y, sr)\n",
    "        process_audio_file(aug_y, sr, file_basename, augment_index=i)\n",
    "        os.remove(augmented_filename)"
   ]
  },
  {
   "cell_type": "code",
   "execution_count": null,
   "metadata": {},
   "outputs": [],
   "source": [
    "print(librosa.__version__)"
   ]
  }
 ],
 "metadata": {
  "kernelspec": {
   "display_name": "Music",
   "language": "python",
   "name": "python3"
  },
  "language_info": {
   "codemirror_mode": {
    "name": "ipython",
    "version": 3
   },
   "file_extension": ".py",
   "mimetype": "text/x-python",
   "name": "python",
   "nbconvert_exporter": "python",
   "pygments_lexer": "ipython3",
   "version": "3.11.2"
  }
 },
 "nbformat": 4,
 "nbformat_minor": 2
}
